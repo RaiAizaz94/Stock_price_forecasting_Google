{
 "cells": [
  {
   "cell_type": "code",
   "execution_count": 134,
   "id": "1148d8a6-2f89-4113-bdfd-8c2f84fa7e92",
   "metadata": {},
   "outputs": [],
   "source": [
    "import yfinance as yf\n",
    "import streamlit as st\n",
    "import pandas as pd\n",
    "import matplotlib.pyplot as plt\n",
    "from prophet import Prophet\n",
    "%matplotlib inline\n",
    "\n",
    "\n",
    "\n",
    "tickerSymbol = 'GOOGL'\n",
    "\n",
    "tickerData = yf.Ticker(tickerSymbol)"
   ]
  },
  {
   "cell_type": "code",
   "execution_count": 114,
   "id": "eae7c8f1-1793-4f31-87f2-1b991f7cb5ae",
   "metadata": {},
   "outputs": [],
   "source": [
    "tickerDf = tickerData.history(period='1d', start='2010-5-31', end='2024-5-31')"
   ]
  },
  {
   "cell_type": "code",
   "execution_count": 115,
   "id": "14388f12-5ad2-44cc-8e26-de8fcf313eb6",
   "metadata": {},
   "outputs": [
    {
     "data": {
      "text/html": [
       "<div>\n",
       "<style scoped>\n",
       "    .dataframe tbody tr th:only-of-type {\n",
       "        vertical-align: middle;\n",
       "    }\n",
       "\n",
       "    .dataframe tbody tr th {\n",
       "        vertical-align: top;\n",
       "    }\n",
       "\n",
       "    .dataframe thead th {\n",
       "        text-align: right;\n",
       "    }\n",
       "</style>\n",
       "<table border=\"1\" class=\"dataframe\">\n",
       "  <thead>\n",
       "    <tr style=\"text-align: right;\">\n",
       "      <th></th>\n",
       "      <th>Open</th>\n",
       "      <th>High</th>\n",
       "      <th>Low</th>\n",
       "      <th>Close</th>\n",
       "      <th>Volume</th>\n",
       "      <th>Dividends</th>\n",
       "      <th>Stock Splits</th>\n",
       "    </tr>\n",
       "    <tr>\n",
       "      <th>Date</th>\n",
       "      <th></th>\n",
       "      <th></th>\n",
       "      <th></th>\n",
       "      <th></th>\n",
       "      <th></th>\n",
       "      <th></th>\n",
       "      <th></th>\n",
       "    </tr>\n",
       "  </thead>\n",
       "  <tbody>\n",
       "    <tr>\n",
       "      <th>2010-06-01 00:00:00-04:00</th>\n",
       "      <td>11.993076</td>\n",
       "      <td>12.258435</td>\n",
       "      <td>11.985337</td>\n",
       "      <td>12.041504</td>\n",
       "      <td>106565328</td>\n",
       "      <td>0.0</td>\n",
       "      <td>0.0</td>\n",
       "    </tr>\n",
       "    <tr>\n",
       "      <th>2010-06-02 00:00:00-04:00</th>\n",
       "      <td>12.149096</td>\n",
       "      <td>12.328581</td>\n",
       "      <td>12.018788</td>\n",
       "      <td>12.316100</td>\n",
       "      <td>101530368</td>\n",
       "      <td>0.0</td>\n",
       "      <td>0.0</td>\n",
       "    </tr>\n",
       "    <tr>\n",
       "      <th>2010-06-03 00:00:00-04:00</th>\n",
       "      <td>12.359536</td>\n",
       "      <td>12.681313</td>\n",
       "      <td>12.349302</td>\n",
       "      <td>12.621401</td>\n",
       "      <td>145881972</td>\n",
       "      <td>0.0</td>\n",
       "      <td>0.0</td>\n",
       "    </tr>\n",
       "    <tr>\n",
       "      <th>2010-06-04 00:00:00-04:00</th>\n",
       "      <td>12.474616</td>\n",
       "      <td>12.712515</td>\n",
       "      <td>12.399227</td>\n",
       "      <td>12.449653</td>\n",
       "      <td>156655188</td>\n",
       "      <td>0.0</td>\n",
       "      <td>0.0</td>\n",
       "    </tr>\n",
       "    <tr>\n",
       "      <th>2010-06-07 00:00:00-04:00</th>\n",
       "      <td>12.458141</td>\n",
       "      <td>12.504323</td>\n",
       "      <td>12.060977</td>\n",
       "      <td>12.120139</td>\n",
       "      <td>145162692</td>\n",
       "      <td>0.0</td>\n",
       "      <td>0.0</td>\n",
       "    </tr>\n",
       "  </tbody>\n",
       "</table>\n",
       "</div>"
      ],
      "text/plain": [
       "                                Open       High        Low      Close  \\\n",
       "Date                                                                    \n",
       "2010-06-01 00:00:00-04:00  11.993076  12.258435  11.985337  12.041504   \n",
       "2010-06-02 00:00:00-04:00  12.149096  12.328581  12.018788  12.316100   \n",
       "2010-06-03 00:00:00-04:00  12.359536  12.681313  12.349302  12.621401   \n",
       "2010-06-04 00:00:00-04:00  12.474616  12.712515  12.399227  12.449653   \n",
       "2010-06-07 00:00:00-04:00  12.458141  12.504323  12.060977  12.120139   \n",
       "\n",
       "                              Volume  Dividends  Stock Splits  \n",
       "Date                                                           \n",
       "2010-06-01 00:00:00-04:00  106565328        0.0           0.0  \n",
       "2010-06-02 00:00:00-04:00  101530368        0.0           0.0  \n",
       "2010-06-03 00:00:00-04:00  145881972        0.0           0.0  \n",
       "2010-06-04 00:00:00-04:00  156655188        0.0           0.0  \n",
       "2010-06-07 00:00:00-04:00  145162692        0.0           0.0  "
      ]
     },
     "execution_count": 115,
     "metadata": {},
     "output_type": "execute_result"
    }
   ],
   "source": [
    "tickerDf.head()"
   ]
  },
  {
   "cell_type": "code",
   "execution_count": 116,
   "id": "cef12ed3-3edc-449c-91a4-90509d39ff26",
   "metadata": {},
   "outputs": [],
   "source": [
    "df = pd.DataFrame(tickerDf)"
   ]
  },
  {
   "cell_type": "code",
   "execution_count": 117,
   "id": "f4d5be92-4c3d-484a-808e-9917a3c1a80e",
   "metadata": {},
   "outputs": [
    {
     "name": "stdout",
     "output_type": "stream",
     "text": [
      "Index(['Open', 'High', 'Low', 'Close', 'Volume', 'Dividends', 'Stock Splits'], dtype='object')\n"
     ]
    }
   ],
   "source": [
    "print(df.columns)"
   ]
  },
  {
   "cell_type": "code",
   "execution_count": 118,
   "id": "264820c6-4a3d-4469-aace-1ffcbb3f175d",
   "metadata": {},
   "outputs": [],
   "source": [
    "df.columns = df.columns.str.strip()"
   ]
  },
  {
   "cell_type": "code",
   "execution_count": 119,
   "id": "36ea8bce-c295-49c1-92e6-c19095338c80",
   "metadata": {},
   "outputs": [
    {
     "name": "stdout",
     "output_type": "stream",
     "text": [
      "DatetimeIndex(['2010-06-01 00:00:00-04:00', '2010-06-02 00:00:00-04:00',\n",
      "               '2010-06-03 00:00:00-04:00', '2010-06-04 00:00:00-04:00',\n",
      "               '2010-06-07 00:00:00-04:00', '2010-06-08 00:00:00-04:00',\n",
      "               '2010-06-09 00:00:00-04:00', '2010-06-10 00:00:00-04:00',\n",
      "               '2010-06-11 00:00:00-04:00', '2010-06-14 00:00:00-04:00',\n",
      "               ...\n",
      "               '2024-05-16 00:00:00-04:00', '2024-05-17 00:00:00-04:00',\n",
      "               '2024-05-20 00:00:00-04:00', '2024-05-21 00:00:00-04:00',\n",
      "               '2024-05-22 00:00:00-04:00', '2024-05-23 00:00:00-04:00',\n",
      "               '2024-05-24 00:00:00-04:00', '2024-05-28 00:00:00-04:00',\n",
      "               '2024-05-29 00:00:00-04:00', '2024-05-30 00:00:00-04:00'],\n",
      "              dtype='datetime64[ns, America/New_York]', name='Date', length=3524, freq=None)\n"
     ]
    }
   ],
   "source": [
    "print(df.index)"
   ]
  },
  {
   "cell_type": "code",
   "execution_count": 120,
   "id": "86d7a380-fdc1-4e6f-9e43-20a197878c50",
   "metadata": {},
   "outputs": [],
   "source": [
    "df = df.reset_index()"
   ]
  },
  {
   "cell_type": "code",
   "execution_count": 121,
   "id": "c3efec5b-400e-4f13-8905-08201b95bb00",
   "metadata": {},
   "outputs": [],
   "source": [
    "df['Date'] = pd.to_datetime(df['Date'])\n"
   ]
  },
  {
   "cell_type": "code",
   "execution_count": 122,
   "id": "7e53cc8f-8fe8-4b34-a911-e5dda1c9959f",
   "metadata": {},
   "outputs": [
    {
     "data": {
      "text/html": [
       "<div>\n",
       "<style scoped>\n",
       "    .dataframe tbody tr th:only-of-type {\n",
       "        vertical-align: middle;\n",
       "    }\n",
       "\n",
       "    .dataframe tbody tr th {\n",
       "        vertical-align: top;\n",
       "    }\n",
       "\n",
       "    .dataframe thead th {\n",
       "        text-align: right;\n",
       "    }\n",
       "</style>\n",
       "<table border=\"1\" class=\"dataframe\">\n",
       "  <thead>\n",
       "    <tr style=\"text-align: right;\">\n",
       "      <th></th>\n",
       "      <th>Date</th>\n",
       "      <th>Open</th>\n",
       "      <th>High</th>\n",
       "      <th>Low</th>\n",
       "      <th>Close</th>\n",
       "      <th>Volume</th>\n",
       "      <th>Dividends</th>\n",
       "      <th>Stock Splits</th>\n",
       "    </tr>\n",
       "  </thead>\n",
       "  <tbody>\n",
       "    <tr>\n",
       "      <th>0</th>\n",
       "      <td>2010-06-01 00:00:00-04:00</td>\n",
       "      <td>11.993076</td>\n",
       "      <td>12.258435</td>\n",
       "      <td>11.985337</td>\n",
       "      <td>12.041504</td>\n",
       "      <td>106565328</td>\n",
       "      <td>0.0</td>\n",
       "      <td>0.0</td>\n",
       "    </tr>\n",
       "    <tr>\n",
       "      <th>1</th>\n",
       "      <td>2010-06-02 00:00:00-04:00</td>\n",
       "      <td>12.149096</td>\n",
       "      <td>12.328581</td>\n",
       "      <td>12.018788</td>\n",
       "      <td>12.316100</td>\n",
       "      <td>101530368</td>\n",
       "      <td>0.0</td>\n",
       "      <td>0.0</td>\n",
       "    </tr>\n",
       "    <tr>\n",
       "      <th>2</th>\n",
       "      <td>2010-06-03 00:00:00-04:00</td>\n",
       "      <td>12.359536</td>\n",
       "      <td>12.681313</td>\n",
       "      <td>12.349302</td>\n",
       "      <td>12.621401</td>\n",
       "      <td>145881972</td>\n",
       "      <td>0.0</td>\n",
       "      <td>0.0</td>\n",
       "    </tr>\n",
       "    <tr>\n",
       "      <th>3</th>\n",
       "      <td>2010-06-04 00:00:00-04:00</td>\n",
       "      <td>12.474616</td>\n",
       "      <td>12.712515</td>\n",
       "      <td>12.399227</td>\n",
       "      <td>12.449653</td>\n",
       "      <td>156655188</td>\n",
       "      <td>0.0</td>\n",
       "      <td>0.0</td>\n",
       "    </tr>\n",
       "    <tr>\n",
       "      <th>4</th>\n",
       "      <td>2010-06-07 00:00:00-04:00</td>\n",
       "      <td>12.458141</td>\n",
       "      <td>12.504323</td>\n",
       "      <td>12.060977</td>\n",
       "      <td>12.120139</td>\n",
       "      <td>145162692</td>\n",
       "      <td>0.0</td>\n",
       "      <td>0.0</td>\n",
       "    </tr>\n",
       "  </tbody>\n",
       "</table>\n",
       "</div>"
      ],
      "text/plain": [
       "                       Date       Open       High        Low      Close  \\\n",
       "0 2010-06-01 00:00:00-04:00  11.993076  12.258435  11.985337  12.041504   \n",
       "1 2010-06-02 00:00:00-04:00  12.149096  12.328581  12.018788  12.316100   \n",
       "2 2010-06-03 00:00:00-04:00  12.359536  12.681313  12.349302  12.621401   \n",
       "3 2010-06-04 00:00:00-04:00  12.474616  12.712515  12.399227  12.449653   \n",
       "4 2010-06-07 00:00:00-04:00  12.458141  12.504323  12.060977  12.120139   \n",
       "\n",
       "      Volume  Dividends  Stock Splits  \n",
       "0  106565328        0.0           0.0  \n",
       "1  101530368        0.0           0.0  \n",
       "2  145881972        0.0           0.0  \n",
       "3  156655188        0.0           0.0  \n",
       "4  145162692        0.0           0.0  "
      ]
     },
     "execution_count": 122,
     "metadata": {},
     "output_type": "execute_result"
    }
   ],
   "source": [
    "df.head()"
   ]
  },
  {
   "cell_type": "code",
   "execution_count": 123,
   "id": "e4559ce5-2a34-4221-bd74-f673f09e6682",
   "metadata": {},
   "outputs": [
    {
     "name": "stdout",
     "output_type": "stream",
     "text": [
      "Index(['Date', 'Open', 'High', 'Low', 'Close', 'Volume', 'Dividends',\n",
      "       'Stock Splits'],\n",
      "      dtype='object')\n"
     ]
    }
   ],
   "source": [
    "print(df.columns)"
   ]
  },
  {
   "cell_type": "code",
   "execution_count": 124,
   "id": "4e0f1ba9-a28d-43f3-bd87-6984948c9fff",
   "metadata": {},
   "outputs": [],
   "source": [
    "df['Date'] = pd.to_datetime(df['Date']).dt.tz_localize(None)"
   ]
  },
  {
   "cell_type": "code",
   "execution_count": 125,
   "id": "395ec4b9-93ba-4219-8204-328161771dd5",
   "metadata": {},
   "outputs": [
    {
     "data": {
      "text/html": [
       "<div>\n",
       "<style scoped>\n",
       "    .dataframe tbody tr th:only-of-type {\n",
       "        vertical-align: middle;\n",
       "    }\n",
       "\n",
       "    .dataframe tbody tr th {\n",
       "        vertical-align: top;\n",
       "    }\n",
       "\n",
       "    .dataframe thead th {\n",
       "        text-align: right;\n",
       "    }\n",
       "</style>\n",
       "<table border=\"1\" class=\"dataframe\">\n",
       "  <thead>\n",
       "    <tr style=\"text-align: right;\">\n",
       "      <th></th>\n",
       "      <th>Date</th>\n",
       "      <th>Open</th>\n",
       "      <th>High</th>\n",
       "      <th>Low</th>\n",
       "      <th>Close</th>\n",
       "      <th>Volume</th>\n",
       "      <th>Dividends</th>\n",
       "      <th>Stock Splits</th>\n",
       "    </tr>\n",
       "  </thead>\n",
       "  <tbody>\n",
       "    <tr>\n",
       "      <th>0</th>\n",
       "      <td>2010-06-01</td>\n",
       "      <td>11.993076</td>\n",
       "      <td>12.258435</td>\n",
       "      <td>11.985337</td>\n",
       "      <td>12.041504</td>\n",
       "      <td>106565328</td>\n",
       "      <td>0.0</td>\n",
       "      <td>0.0</td>\n",
       "    </tr>\n",
       "    <tr>\n",
       "      <th>1</th>\n",
       "      <td>2010-06-02</td>\n",
       "      <td>12.149096</td>\n",
       "      <td>12.328581</td>\n",
       "      <td>12.018788</td>\n",
       "      <td>12.316100</td>\n",
       "      <td>101530368</td>\n",
       "      <td>0.0</td>\n",
       "      <td>0.0</td>\n",
       "    </tr>\n",
       "    <tr>\n",
       "      <th>2</th>\n",
       "      <td>2010-06-03</td>\n",
       "      <td>12.359536</td>\n",
       "      <td>12.681313</td>\n",
       "      <td>12.349302</td>\n",
       "      <td>12.621401</td>\n",
       "      <td>145881972</td>\n",
       "      <td>0.0</td>\n",
       "      <td>0.0</td>\n",
       "    </tr>\n",
       "    <tr>\n",
       "      <th>3</th>\n",
       "      <td>2010-06-04</td>\n",
       "      <td>12.474616</td>\n",
       "      <td>12.712515</td>\n",
       "      <td>12.399227</td>\n",
       "      <td>12.449653</td>\n",
       "      <td>156655188</td>\n",
       "      <td>0.0</td>\n",
       "      <td>0.0</td>\n",
       "    </tr>\n",
       "    <tr>\n",
       "      <th>4</th>\n",
       "      <td>2010-06-07</td>\n",
       "      <td>12.458141</td>\n",
       "      <td>12.504323</td>\n",
       "      <td>12.060977</td>\n",
       "      <td>12.120139</td>\n",
       "      <td>145162692</td>\n",
       "      <td>0.0</td>\n",
       "      <td>0.0</td>\n",
       "    </tr>\n",
       "  </tbody>\n",
       "</table>\n",
       "</div>"
      ],
      "text/plain": [
       "        Date       Open       High        Low      Close     Volume  \\\n",
       "0 2010-06-01  11.993076  12.258435  11.985337  12.041504  106565328   \n",
       "1 2010-06-02  12.149096  12.328581  12.018788  12.316100  101530368   \n",
       "2 2010-06-03  12.359536  12.681313  12.349302  12.621401  145881972   \n",
       "3 2010-06-04  12.474616  12.712515  12.399227  12.449653  156655188   \n",
       "4 2010-06-07  12.458141  12.504323  12.060977  12.120139  145162692   \n",
       "\n",
       "   Dividends  Stock Splits  \n",
       "0        0.0           0.0  \n",
       "1        0.0           0.0  \n",
       "2        0.0           0.0  \n",
       "3        0.0           0.0  \n",
       "4        0.0           0.0  "
      ]
     },
     "execution_count": 125,
     "metadata": {},
     "output_type": "execute_result"
    }
   ],
   "source": [
    "df.head()"
   ]
  },
  {
   "cell_type": "code",
   "execution_count": 126,
   "id": "0f7818c1-8f2b-48d5-970f-4cdec4f82951",
   "metadata": {},
   "outputs": [
    {
     "data": {
      "text/html": [
       "<div>\n",
       "<style scoped>\n",
       "    .dataframe tbody tr th:only-of-type {\n",
       "        vertical-align: middle;\n",
       "    }\n",
       "\n",
       "    .dataframe tbody tr th {\n",
       "        vertical-align: top;\n",
       "    }\n",
       "\n",
       "    .dataframe thead th {\n",
       "        text-align: right;\n",
       "    }\n",
       "</style>\n",
       "<table border=\"1\" class=\"dataframe\">\n",
       "  <thead>\n",
       "    <tr style=\"text-align: right;\">\n",
       "      <th></th>\n",
       "      <th>ds</th>\n",
       "      <th>Open</th>\n",
       "      <th>High</th>\n",
       "      <th>Low</th>\n",
       "      <th>y</th>\n",
       "      <th>Volume</th>\n",
       "      <th>Dividends</th>\n",
       "      <th>Stock Splits</th>\n",
       "    </tr>\n",
       "  </thead>\n",
       "  <tbody>\n",
       "    <tr>\n",
       "      <th>0</th>\n",
       "      <td>2010-06-01</td>\n",
       "      <td>11.993076</td>\n",
       "      <td>12.258435</td>\n",
       "      <td>11.985337</td>\n",
       "      <td>12.041504</td>\n",
       "      <td>106565328</td>\n",
       "      <td>0.0</td>\n",
       "      <td>0.0</td>\n",
       "    </tr>\n",
       "    <tr>\n",
       "      <th>1</th>\n",
       "      <td>2010-06-02</td>\n",
       "      <td>12.149096</td>\n",
       "      <td>12.328581</td>\n",
       "      <td>12.018788</td>\n",
       "      <td>12.316100</td>\n",
       "      <td>101530368</td>\n",
       "      <td>0.0</td>\n",
       "      <td>0.0</td>\n",
       "    </tr>\n",
       "    <tr>\n",
       "      <th>2</th>\n",
       "      <td>2010-06-03</td>\n",
       "      <td>12.359536</td>\n",
       "      <td>12.681313</td>\n",
       "      <td>12.349302</td>\n",
       "      <td>12.621401</td>\n",
       "      <td>145881972</td>\n",
       "      <td>0.0</td>\n",
       "      <td>0.0</td>\n",
       "    </tr>\n",
       "    <tr>\n",
       "      <th>3</th>\n",
       "      <td>2010-06-04</td>\n",
       "      <td>12.474616</td>\n",
       "      <td>12.712515</td>\n",
       "      <td>12.399227</td>\n",
       "      <td>12.449653</td>\n",
       "      <td>156655188</td>\n",
       "      <td>0.0</td>\n",
       "      <td>0.0</td>\n",
       "    </tr>\n",
       "    <tr>\n",
       "      <th>4</th>\n",
       "      <td>2010-06-07</td>\n",
       "      <td>12.458141</td>\n",
       "      <td>12.504323</td>\n",
       "      <td>12.060977</td>\n",
       "      <td>12.120139</td>\n",
       "      <td>145162692</td>\n",
       "      <td>0.0</td>\n",
       "      <td>0.0</td>\n",
       "    </tr>\n",
       "  </tbody>\n",
       "</table>\n",
       "</div>"
      ],
      "text/plain": [
       "          ds       Open       High        Low          y     Volume  \\\n",
       "0 2010-06-01  11.993076  12.258435  11.985337  12.041504  106565328   \n",
       "1 2010-06-02  12.149096  12.328581  12.018788  12.316100  101530368   \n",
       "2 2010-06-03  12.359536  12.681313  12.349302  12.621401  145881972   \n",
       "3 2010-06-04  12.474616  12.712515  12.399227  12.449653  156655188   \n",
       "4 2010-06-07  12.458141  12.504323  12.060977  12.120139  145162692   \n",
       "\n",
       "   Dividends  Stock Splits  \n",
       "0        0.0           0.0  \n",
       "1        0.0           0.0  \n",
       "2        0.0           0.0  \n",
       "3        0.0           0.0  \n",
       "4        0.0           0.0  "
      ]
     },
     "execution_count": 126,
     "metadata": {},
     "output_type": "execute_result"
    }
   ],
   "source": [
    "df = df.rename(columns={'Date': 'ds',  'Close': 'y'})\n",
    "df.head()"
   ]
  },
  {
   "cell_type": "code",
   "execution_count": 127,
   "id": "804eedbb-4664-4c2a-8b78-bb53f18a818e",
   "metadata": {},
   "outputs": [],
   "source": [
    "df1 = df[['ds', 'y']]"
   ]
  },
  {
   "cell_type": "code",
   "execution_count": 128,
   "id": "5f1fdeea-365e-46df-9be5-548d4e977f9e",
   "metadata": {},
   "outputs": [],
   "source": [
    "model = Prophet()"
   ]
  },
  {
   "cell_type": "code",
   "execution_count": 129,
   "id": "b016ef80-edb8-4b88-94b3-f38f4eab26a2",
   "metadata": {},
   "outputs": [
    {
     "name": "stderr",
     "output_type": "stream",
     "text": [
      "04:56:42 - cmdstanpy - INFO - Chain [1] start processing\n",
      "04:56:42 - cmdstanpy - INFO - Chain [1] done processing\n"
     ]
    },
    {
     "data": {
      "text/plain": [
       "<prophet.forecaster.Prophet at 0x29478c98e90>"
      ]
     },
     "execution_count": 129,
     "metadata": {},
     "output_type": "execute_result"
    }
   ],
   "source": [
    "model.fit(df1)"
   ]
  },
  {
   "cell_type": "code",
   "execution_count": 130,
   "id": "a00f9b46-2680-4e37-9a83-d3ecf2f58711",
   "metadata": {},
   "outputs": [],
   "source": [
    "future = model.make_future_dataframe(periods=5*365)"
   ]
  },
  {
   "cell_type": "code",
   "execution_count": 131,
   "id": "be61445d-dfc3-4edd-a8d0-48d2ac0797cb",
   "metadata": {},
   "outputs": [],
   "source": [
    "forecast = model.predict(future)"
   ]
  },
  {
   "cell_type": "code",
   "execution_count": 132,
   "id": "3862fc64-2772-4d20-a7fe-b67a6f2cfac9",
   "metadata": {},
   "outputs": [
    {
     "name": "stdout",
     "output_type": "stream",
     "text": [
      "             ds        yhat  yhat_lower  yhat_upper\n",
      "5344 2029-05-25  150.901241   94.373882  204.442897\n",
      "5345 2029-05-26  150.756648   94.953537  206.391813\n",
      "5346 2029-05-27  150.633381   93.470229  206.520095\n",
      "5347 2029-05-28  150.573016   96.925723  203.991919\n",
      "5348 2029-05-29  150.387437   95.420086  206.322127\n"
     ]
    }
   ],
   "source": [
    "print(forecast[['ds', 'yhat', 'yhat_lower', 'yhat_upper']].tail())"
   ]
  },
  {
   "cell_type": "code",
   "execution_count": 133,
   "id": "a5d2c81d-d98e-4259-9a8f-fe6574e68f73",
   "metadata": {},
   "outputs": [
    {
     "data": {
      "image/png": "[encoded data removed]",
      "text/plain": [
       "<Figure size 1000x600 with 1 Axes>"
      ]
     },
     "metadata": {},
     "output_type": "display_data"
    }
   ],
   "source": [
    "fig1 = model.plot(forecast)\n",
    "plt.title(\"Stock Price Forecast for Next 5 Years\")\n",
    "plt.xlabel(\"Date\")\n",
    "plt.ylabel(\"Price\")\n",
    "plt.show()"
   ]
  },
  {
   "cell_type": "code",
   "execution_count": null,
   "id": "01dab64b-8a52-4cd8-a3f5-b107f659e520",
   "metadata": {},
   "outputs": [],
   "source": []
  }
 ],
 "metadata": {
  "kernelspec": {
   "display_name": "Python 3 (ipykernel)",
   "language": "python",
   "name": "python3"
  },
  "language_info": {
   "codemirror_mode": {
    "name": "ipython",
    "version": 3
   },
   "file_extension": ".py",
   "mimetype": "text/x-python",
   "name": "python",
   "nbconvert_exporter": "python",
   "pygments_lexer": "ipython3",
   "version": "3.12.4"
  }
 },
 "nbformat": 4,
 "nbformat_minor": 5
}
